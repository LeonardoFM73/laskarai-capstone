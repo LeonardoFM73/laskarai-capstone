{
  "nbformat": 4,
  "nbformat_minor": 0,
  "metadata": {
    "colab": {
      "provenance": []
    },
    "kernelspec": {
      "name": "python3",
      "display_name": "Python 3"
    },
    "language_info": {
      "name": "python"
    }
  },
  "cells": [
    {
      "cell_type": "code",
      "execution_count": 1,
      "metadata": {
        "colab": {
          "base_uri": "https://localhost:8080/"
        },
        "id": "1KvEU9KMY09U",
        "outputId": "3e9c7b01-f843-4060-cc36-452a6f18479c"
      },
      "outputs": [
        {
          "output_type": "stream",
          "name": "stdout",
          "text": [
            "The model predicts that the individual is likely to have heart disease or attack with a confidence of 56.57%.\n"
          ]
        }
      ],
      "source": [
        "import pandas as pd\n",
        "import requests\n",
        "import joblib\n",
        "from io import BytesIO\n",
        "\n",
        "# URL of the model on GitHub\n",
        "url = \"https://raw.githubusercontent.com/RiMedAI/laskarai-capstone/refs/heads/main/export-model/lr_jantung_smote.pkl\"\n",
        "\n",
        "# Fetch the model file from GitHub\n",
        "response = requests.get(url)\n",
        "response.raise_for_status()  # Raise an error if download failed\n",
        "\n",
        "# Load the model from the response content\n",
        "model = joblib.load(BytesIO(response.content))\n",
        "\n",
        "# Inference data (ensure the features and data types match the model's training)\n",
        "inference_data = {\n",
        "    'GenHlth': [3],  # Example: Good general health\n",
        "    'HighBP': [1],   # Example: Has high blood pressure\n",
        "    'Age': [9],      # Example: 60-64 years old\n",
        "    'Diabetes': [0], # Example: No diabetes\n",
        "    'HighChol': [1], # Example: Has high cholesterol\n",
        "    'Smoker': [1],   # Example: Is a smoker\n",
        "    'Sex': [0],      # Example: Male\n",
        "    'AnyHealthcare': [1] # Example: Has healthcare coverage\n",
        "}\n",
        "\n",
        "inference_df = pd.DataFrame(inference_data)\n",
        "\n",
        "# Predict the class (0 or 1)\n",
        "prediction = model.predict(inference_df)\n",
        "\n",
        "# Predict the probability of each class (returns a 2D array with [prob_0, prob_1])\n",
        "probabilities = model.predict_proba(inference_df)\n",
        "\n",
        "# Get the probability of class 1 (heart disease) in percentage\n",
        "prob_class_1 = probabilities[0][1] * 100\n",
        "\n",
        "# Print the prediction and confidence\n",
        "if prediction[0] == 1:\n",
        "    print(f\"The model predicts that the individual is likely to have heart disease or attack \"\n",
        "          f\"with a confidence of {prob_class_1:.2f}%.\")\n",
        "else:\n",
        "    print(f\"The model predicts that the individual is unlikely to have heart disease or attack \"\n",
        "          f\"with a confidence of {100 - prob_class_1:.2f}%.\")"
      ]
    }
  ]
}